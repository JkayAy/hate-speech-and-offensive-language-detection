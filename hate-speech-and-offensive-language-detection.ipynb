{
 "cells": [
  {
   "cell_type": "markdown",
   "id": "e369888d",
   "metadata": {
    "papermill": {
     "duration": 0.006026,
     "end_time": "2023-12-14T19:09:14.948726",
     "exception": false,
     "start_time": "2023-12-14T19:09:14.942700",
     "status": "completed"
    },
    "tags": []
   },
   "source": [
    "# Steps:\n",
    "1) preprocessing\n",
    "2) splitting\n",
    "3) tokenize & padding\n",
    "4) Create model & train\n",
    "5) evaluate\n",
    "\n",
    "# Preprocessing (cleaning the datasets):\n",
    "\n",
    "1) remove html entity\n",
    "2) change user tags (@xxx -> user)\n",
    "3) remove urls\n",
    "4) remove unnecessary symbol ('', !, \", ') -> cause a lot of noise in the dataset\n",
    "5) remove stopwords"
   ]
  },
  {
   "cell_type": "markdown",
   "id": "668587ef",
   "metadata": {
    "papermill": {
     "duration": 0.005948,
     "end_time": "2023-12-14T19:09:14.961120",
     "exception": false,
     "start_time": "2023-12-14T19:09:14.955172",
     "status": "completed"
    },
    "tags": []
   },
   "source": [
    "# 1| Import libraries"
   ]
  },
  {
   "cell_type": "code",
   "execution_count": 16,
   "id": "ab75e763",
   "metadata": {
    "execution": {
     "iopub.execute_input": "2023-12-14T19:09:14.975014Z",
     "iopub.status.busy": "2023-12-14T19:09:14.974260Z",
     "iopub.status.idle": "2023-12-14T19:09:27.139784Z",
     "shell.execute_reply": "2023-12-14T19:09:27.138979Z"
    },
    "papermill": {
     "duration": 12.17501,
     "end_time": "2023-12-14T19:09:27.142267",
     "exception": false,
     "start_time": "2023-12-14T19:09:14.967257",
     "status": "completed"
    },
    "tags": []
   },
   "outputs": [
    {
     "name": "stderr",
     "output_type": "stream",
     "text": [
      "[nltk_data] Downloading package stopwords to\n",
      "[nltk_data]     C:\\Users\\NOCAY\\AppData\\Roaming\\nltk_data...\n",
      "[nltk_data]   Package stopwords is already up-to-date!\n",
      "[nltk_data] Downloading package punkt to\n",
      "[nltk_data]     C:\\Users\\NOCAY\\AppData\\Roaming\\nltk_data...\n",
      "[nltk_data]   Unzipping tokenizers\\punkt.zip.\n"
     ]
    },
    {
     "data": {
      "text/plain": [
       "True"
      ]
     },
     "execution_count": 16,
     "metadata": {},
     "output_type": "execute_result"
    }
   ],
   "source": [
    "import pandas as pd # read the csv\n",
    "import re # regex to detect username, url, html entity \n",
    "import nltk # to use word tokenize (split the sentence into words)\n",
    "from nltk.corpus import stopwords # to remove the stopwords\n",
    "from sklearn.model_selection import train_test_split\n",
    "from tensorflow.keras.preprocessing.text import Tokenizer\n",
    "from tensorflow.keras.preprocessing.sequence import pad_sequences\n",
    "from tensorflow.keras.models import Sequential\n",
    "from tensorflow.keras.layers import Embedding, LSTM, Dense, Dropout\n",
    "\n",
    "from keras.utils import to_categorical\n",
    "from keras import backend as K\n",
    "import zipfile\n",
    "import nltk\n",
    "nltk.download('stopwords')\n",
    "nltk.download('punkt')"
   ]
  },
  {
   "cell_type": "markdown",
   "id": "8d6c8588",
   "metadata": {
    "papermill": {
     "duration": 0.006227,
     "end_time": "2023-12-14T19:09:27.155057",
     "exception": false,
     "start_time": "2023-12-14T19:09:27.148830",
     "status": "completed"
    },
    "tags": []
   },
   "source": [
    "# 2| read the data"
   ]
  },
  {
   "cell_type": "code",
   "execution_count": 4,
   "id": "aa5ab80e",
   "metadata": {},
   "outputs": [],
   "source": [
    "zipfile_name = 'train.csv.zip'\n",
    "with zipfile.ZipFile(zipfile_name, 'r') as file:\n",
    " file.extractall()"
   ]
  },
  {
   "cell_type": "code",
   "execution_count": 5,
   "id": "10a5773f",
   "metadata": {
    "execution": {
     "iopub.execute_input": "2023-12-14T19:09:27.169214Z",
     "iopub.status.busy": "2023-12-14T19:09:27.168601Z",
     "iopub.status.idle": "2023-12-14T19:09:27.259433Z",
     "shell.execute_reply": "2023-12-14T19:09:27.258479Z"
    },
    "papermill": {
     "duration": 0.100274,
     "end_time": "2023-12-14T19:09:27.261585",
     "exception": false,
     "start_time": "2023-12-14T19:09:27.161311",
     "status": "completed"
    },
    "tags": []
   },
   "outputs": [
    {
     "data": {
      "text/html": [
       "<div>\n",
       "<style scoped>\n",
       "    .dataframe tbody tr th:only-of-type {\n",
       "        vertical-align: middle;\n",
       "    }\n",
       "\n",
       "    .dataframe tbody tr th {\n",
       "        vertical-align: top;\n",
       "    }\n",
       "\n",
       "    .dataframe thead th {\n",
       "        text-align: right;\n",
       "    }\n",
       "</style>\n",
       "<table border=\"1\" class=\"dataframe\">\n",
       "  <thead>\n",
       "    <tr style=\"text-align: right;\">\n",
       "      <th></th>\n",
       "      <th>count</th>\n",
       "      <th>hate_speech_count</th>\n",
       "      <th>offensive_language_count</th>\n",
       "      <th>neither_count</th>\n",
       "      <th>class</th>\n",
       "      <th>tweet</th>\n",
       "    </tr>\n",
       "  </thead>\n",
       "  <tbody>\n",
       "    <tr>\n",
       "      <th>0</th>\n",
       "      <td>3</td>\n",
       "      <td>0</td>\n",
       "      <td>0</td>\n",
       "      <td>3</td>\n",
       "      <td>2</td>\n",
       "      <td>!!! RT @mayasolovely: As a woman you shouldn't...</td>\n",
       "    </tr>\n",
       "    <tr>\n",
       "      <th>1</th>\n",
       "      <td>3</td>\n",
       "      <td>0</td>\n",
       "      <td>3</td>\n",
       "      <td>0</td>\n",
       "      <td>1</td>\n",
       "      <td>!!!!! RT @mleew17: boy dats cold...tyga dwn ba...</td>\n",
       "    </tr>\n",
       "    <tr>\n",
       "      <th>2</th>\n",
       "      <td>3</td>\n",
       "      <td>0</td>\n",
       "      <td>3</td>\n",
       "      <td>0</td>\n",
       "      <td>1</td>\n",
       "      <td>!!!!!!! RT @UrKindOfBrand Dawg!!!! RT @80sbaby...</td>\n",
       "    </tr>\n",
       "    <tr>\n",
       "      <th>3</th>\n",
       "      <td>3</td>\n",
       "      <td>0</td>\n",
       "      <td>2</td>\n",
       "      <td>1</td>\n",
       "      <td>1</td>\n",
       "      <td>!!!!!!!!! RT @C_G_Anderson: @viva_based she lo...</td>\n",
       "    </tr>\n",
       "    <tr>\n",
       "      <th>4</th>\n",
       "      <td>6</td>\n",
       "      <td>0</td>\n",
       "      <td>6</td>\n",
       "      <td>0</td>\n",
       "      <td>1</td>\n",
       "      <td>!!!!!!!!!!!!! RT @ShenikaRoberts: The shit you...</td>\n",
       "    </tr>\n",
       "  </tbody>\n",
       "</table>\n",
       "</div>"
      ],
      "text/plain": [
       "   count  hate_speech_count  offensive_language_count  neither_count  class  \\\n",
       "0      3                  0                         0              3      2   \n",
       "1      3                  0                         3              0      1   \n",
       "2      3                  0                         3              0      1   \n",
       "3      3                  0                         2              1      1   \n",
       "4      6                  0                         6              0      1   \n",
       "\n",
       "                                               tweet  \n",
       "0  !!! RT @mayasolovely: As a woman you shouldn't...  \n",
       "1  !!!!! RT @mleew17: boy dats cold...tyga dwn ba...  \n",
       "2  !!!!!!! RT @UrKindOfBrand Dawg!!!! RT @80sbaby...  \n",
       "3  !!!!!!!!! RT @C_G_Anderson: @viva_based she lo...  \n",
       "4  !!!!!!!!!!!!! RT @ShenikaRoberts: The shit you...  "
      ]
     },
     "execution_count": 5,
     "metadata": {},
     "output_type": "execute_result"
    }
   ],
   "source": [
    "data = pd.read_csv(\"train.csv\")\n",
    "\n",
    "data.head()"
   ]
  },
  {
   "cell_type": "code",
   "execution_count": 8,
   "id": "98ebc0f7",
   "metadata": {
    "execution": {
     "iopub.execute_input": "2023-12-14T19:09:27.276501Z",
     "iopub.status.busy": "2023-12-14T19:09:27.276198Z",
     "iopub.status.idle": "2023-12-14T19:09:27.287236Z",
     "shell.execute_reply": "2023-12-14T19:09:27.286359Z"
    },
    "papermill": {
     "duration": 0.020652,
     "end_time": "2023-12-14T19:09:27.289495",
     "exception": false,
     "start_time": "2023-12-14T19:09:27.268843",
     "status": "completed"
    },
    "tags": []
   },
   "outputs": [
    {
     "name": "stdout",
     "output_type": "stream",
     "text": [
      "num of tweets: (24783, 6)\n"
     ]
    }
   ],
   "source": [
    "# dataset shape to know how many tweets in the datasets\n",
    "print(f\"num of tweets: {data.shape}\")\n",
    "\n",
    "# extract the text and labels\n",
    "tweet = list(data['tweet'])\n",
    "labels = list(data['class'])"
   ]
  },
  {
   "cell_type": "markdown",
   "id": "470cd1cf",
   "metadata": {
    "papermill": {
     "duration": 0.00636,
     "end_time": "2023-12-14T19:09:27.302322",
     "exception": false,
     "start_time": "2023-12-14T19:09:27.295962",
     "status": "completed"
    },
    "tags": []
   },
   "source": [
    "# 3| functions to clean the data"
   ]
  },
  {
   "cell_type": "code",
   "execution_count": null,
   "id": "13d38d2b",
   "metadata": {},
   "outputs": [],
   "source": [
    "#import nltk\n",
    "#nltk.download('stopwords')"
   ]
  },
  {
   "cell_type": "code",
   "execution_count": 14,
   "id": "c1f83112",
   "metadata": {
    "execution": {
     "iopub.execute_input": "2023-12-14T19:09:27.316795Z",
     "iopub.status.busy": "2023-12-14T19:09:27.316123Z",
     "iopub.status.idle": "2023-12-14T19:09:27.330885Z",
     "shell.execute_reply": "2023-12-14T19:09:27.330222Z"
    },
    "papermill": {
     "duration": 0.023981,
     "end_time": "2023-12-14T19:09:27.332726",
     "exception": false,
     "start_time": "2023-12-14T19:09:27.308745",
     "status": "completed"
    },
    "tags": []
   },
   "outputs": [],
   "source": [
    "#notes : all of the function taking 1 text at a time\n",
    "stop_words = set(stopwords.words('english'))\n",
    "# add rt to remove retweet in dataset (noise)\n",
    "stop_words.add(\"rt\")\n",
    "\n",
    "# remove html entity:\n",
    "def remove_entity(raw_text):\n",
    "    entity_regex = r\"&[^\\s;]+;\"\n",
    "    text = re.sub(entity_regex, \"\", raw_text)\n",
    "    return text\n",
    "\n",
    "# change the user tags\n",
    "def change_user(raw_text):\n",
    "    regex = r\"@([^ ]+)\"\n",
    "    text = re.sub(regex, \"user\", raw_text)\n",
    "\n",
    "    return text\n",
    "\n",
    "# remove urls\n",
    "def remove_url(raw_text):\n",
    "    url_regex = r\"(?i)\\b((?:https?://|www\\d{0,3}[.]|[a-z0-9.\\-]+[.][a-z]{2,4}/)(?:[^\\s()<>]+|\\(([^\\s()<>]+|(\\([^\\s()<>]+\\)))*\\))+(?:\\(([^\\s()<>]+|(\\([^\\s()<>]+\\)))*\\)|[^\\s`!()\\[\\]{};:'\\\".,<>?«»“”‘’]))\"\n",
    "    text = re.sub(url_regex, '', raw_text)\n",
    "\n",
    "    return text\n",
    "\n",
    "# remove unnecessary symbols\n",
    "def remove_noise_symbols(raw_text):\n",
    "    text = raw_text.replace('\"', '')\n",
    "    text = text.replace(\"'\", '')\n",
    "    text = text.replace(\"!\", '')\n",
    "    text = text.replace(\"`\", '')\n",
    "    text = text.replace(\"..\", '')\n",
    "\n",
    "    return text\n",
    "\n",
    "# remove stopwords\n",
    "def remove_stopwords(raw_text):\n",
    "    tokenize = nltk.word_tokenize(raw_text)\n",
    "    text = [word for word in tokenize if not word.lower() in stop_words]\n",
    "    text = \" \".join(text)\n",
    "\n",
    "    return text\n",
    "\n",
    "## this function in to clean all the dataset by utilizing all the function above\n",
    "def preprocess(datas):\n",
    "    clean = []\n",
    "    # change the @xxx into \"user\"\n",
    "    clean = [change_user(text) for text in datas]\n",
    "    # remove emojis (specifically unicode emojis)\n",
    "    clean = [remove_entity(text) for text in clean]\n",
    "    # remove urls\n",
    "    clean = [remove_url(text) for text in clean]\n",
    "    # remove trailing stuff\n",
    "    clean = [remove_noise_symbols(text) for text in clean]\n",
    "    # remove stopwords\n",
    "    clean = [remove_stopwords(text) for text in clean]\n",
    "\n",
    "    return clean"
   ]
  },
  {
   "cell_type": "code",
   "execution_count": null,
   "id": "ad3b1033",
   "metadata": {},
   "outputs": [],
   "source": [
    "#import nltk\n",
    "#nltk.download('punkt')"
   ]
  },
  {
   "cell_type": "code",
   "execution_count": 17,
   "id": "fc62fa0d",
   "metadata": {
    "execution": {
     "iopub.execute_input": "2023-12-14T19:09:27.346833Z",
     "iopub.status.busy": "2023-12-14T19:09:27.346568Z",
     "iopub.status.idle": "2023-12-14T19:09:32.828741Z",
     "shell.execute_reply": "2023-12-14T19:09:32.827772Z"
    },
    "papermill": {
     "duration": 5.491728,
     "end_time": "2023-12-14T19:09:32.831006",
     "exception": false,
     "start_time": "2023-12-14T19:09:27.339278",
     "status": "completed"
    },
    "tags": []
   },
   "outputs": [],
   "source": [
    "# call the cleaning function\n",
    "clean_tweet = preprocess(tweet)"
   ]
  },
  {
   "cell_type": "markdown",
   "id": "14902565",
   "metadata": {
    "papermill": {
     "duration": 0.006479,
     "end_time": "2023-12-14T19:09:32.844323",
     "exception": false,
     "start_time": "2023-12-14T19:09:32.837844",
     "status": "completed"
    },
    "tags": []
   },
   "source": [
    "# 4| Splitting the dataset into test and validation"
   ]
  },
  {
   "cell_type": "code",
   "execution_count": 18,
   "id": "899c356d",
   "metadata": {
    "execution": {
     "iopub.execute_input": "2023-12-14T19:09:32.858535Z",
     "iopub.status.busy": "2023-12-14T19:09:32.858250Z",
     "iopub.status.idle": "2023-12-14T19:09:32.876150Z",
     "shell.execute_reply": "2023-12-14T19:09:32.875305Z"
    },
    "papermill": {
     "duration": 0.027113,
     "end_time": "2023-12-14T19:09:32.877998",
     "exception": false,
     "start_time": "2023-12-14T19:09:32.850885",
     "status": "completed"
    },
    "tags": []
   },
   "outputs": [],
   "source": [
    "X_train, X_test, y_train, y_test = train_test_split(clean_tweet, labels, test_size=0.2, random_state=42)"
   ]
  },
  {
   "cell_type": "code",
   "execution_count": 19,
   "id": "77ea6132",
   "metadata": {
    "execution": {
     "iopub.execute_input": "2023-12-14T19:09:32.892167Z",
     "iopub.status.busy": "2023-12-14T19:09:32.891602Z",
     "iopub.status.idle": "2023-12-14T19:09:33.591455Z",
     "shell.execute_reply": "2023-12-14T19:09:33.590665Z"
    },
    "papermill": {
     "duration": 0.709423,
     "end_time": "2023-12-14T19:09:33.593790",
     "exception": false,
     "start_time": "2023-12-14T19:09:32.884367",
     "status": "completed"
    },
    "tags": []
   },
   "outputs": [],
   "source": [
    "## Tokenizing -> basically we use tokenisation for many things, its commonly used for feature extraction in preprocessing. btw idk how it works as feature extraction tho :(\n",
    "# declare the tokenizer\n",
    "tokenizer = Tokenizer()\n",
    "# build the vocabulary based on train dataset\n",
    "tokenizer.fit_on_texts(X_train)\n",
    "# tokenize the train and test dataset\n",
    "X_train = tokenizer.texts_to_sequences(X_train)\n",
    "X_test = tokenizer.texts_to_sequences(X_test)\n",
    "\n",
    "# vocabulary size (num of unique words) -> will be used in embedding layer\n",
    "vocab_size = len(tokenizer.word_index) + 1"
   ]
  },
  {
   "cell_type": "code",
   "execution_count": 20,
   "id": "21dfb59a",
   "metadata": {
    "execution": {
     "iopub.execute_input": "2023-12-14T19:09:33.608314Z",
     "iopub.status.busy": "2023-12-14T19:09:33.608046Z",
     "iopub.status.idle": "2023-12-14T19:09:33.715213Z",
     "shell.execute_reply": "2023-12-14T19:09:33.714451Z"
    },
    "papermill": {
     "duration": 0.116562,
     "end_time": "2023-12-14T19:09:33.717276",
     "exception": false,
     "start_time": "2023-12-14T19:09:33.600714",
     "status": "completed"
    },
    "tags": []
   },
   "outputs": [],
   "source": [
    "## Padding -> to uniform the datas\n",
    "max_length = max(len(seq) for seq in X_train)\n",
    "\n",
    "# to test an outlier case (if one of the test dataset has longer length)\n",
    "for x in X_test:\n",
    "    if len(x) > max_length:\n",
    "        print(f\"an outlier detected: {x}\")\n",
    "\n",
    "X_train = pad_sequences(X_train, maxlen = max_length)\n",
    "X_test = pad_sequences(X_test, maxlen = max_length)"
   ]
  },
  {
   "cell_type": "code",
   "execution_count": 21,
   "id": "9521b5cc",
   "metadata": {
    "execution": {
     "iopub.execute_input": "2023-12-14T19:09:33.732003Z",
     "iopub.status.busy": "2023-12-14T19:09:33.731484Z",
     "iopub.status.idle": "2023-12-14T19:09:33.737774Z",
     "shell.execute_reply": "2023-12-14T19:09:33.736961Z"
    },
    "papermill": {
     "duration": 0.015717,
     "end_time": "2023-12-14T19:09:33.739731",
     "exception": false,
     "start_time": "2023-12-14T19:09:33.724014",
     "status": "completed"
    },
    "tags": []
   },
   "outputs": [],
   "source": [
    "# create hot_labels (idk whty tapi ini penting, kalo ga bakal error)\n",
    "y_test = to_categorical(y_test, num_classes=3)\n",
    "y_train = to_categorical(y_train, num_classes=3)"
   ]
  },
  {
   "cell_type": "code",
   "execution_count": 22,
   "id": "850a3b71",
   "metadata": {
    "execution": {
     "iopub.execute_input": "2023-12-14T19:09:33.754374Z",
     "iopub.status.busy": "2023-12-14T19:09:33.754129Z",
     "iopub.status.idle": "2023-12-14T19:09:33.758613Z",
     "shell.execute_reply": "2023-12-14T19:09:33.757676Z"
    },
    "papermill": {
     "duration": 0.014126,
     "end_time": "2023-12-14T19:09:33.760507",
     "exception": false,
     "start_time": "2023-12-14T19:09:33.746381",
     "status": "completed"
    },
    "tags": []
   },
   "outputs": [
    {
     "name": "stdout",
     "output_type": "stream",
     "text": [
      "num test tweet: 4957\n",
      "num train tweet: 19826\n"
     ]
    }
   ],
   "source": [
    "# another look on the number of tweet in test and training data\n",
    "\n",
    "print(f\"num test tweet: {y_test.shape[0]}\")\n",
    "print(f\"num train tweet: {y_train.shape[0]}\")"
   ]
  },
  {
   "cell_type": "markdown",
   "id": "6e448587",
   "metadata": {
    "papermill": {
     "duration": 0.006263,
     "end_time": "2023-12-14T19:09:33.773255",
     "exception": false,
     "start_time": "2023-12-14T19:09:33.766992",
     "status": "completed"
    },
    "tags": []
   },
   "source": [
    "# 5| Building the model"
   ]
  },
  {
   "cell_type": "code",
   "execution_count": 23,
   "id": "fa113a4a",
   "metadata": {
    "execution": {
     "iopub.execute_input": "2023-12-14T19:09:33.787181Z",
     "iopub.status.busy": "2023-12-14T19:09:33.786897Z",
     "iopub.status.idle": "2023-12-14T19:09:33.793976Z",
     "shell.execute_reply": "2023-12-14T19:09:33.793167Z"
    },
    "papermill": {
     "duration": 0.016174,
     "end_time": "2023-12-14T19:09:33.795867",
     "exception": false,
     "start_time": "2023-12-14T19:09:33.779693",
     "status": "completed"
    },
    "tags": []
   },
   "outputs": [],
   "source": [
    "def recall(y_true, y_pred):\n",
    "    true_positives = K.sum(K.round(K.clip(y_true * y_pred, 0, 1)))\n",
    "    possible_positives = K.sum(K.round(K.clip(y_true, 0, 1)))\n",
    "    recall = true_positives / (possible_positives + K.epsilon())\n",
    "    return recall\n",
    "\n",
    "def precision(y_true, y_pred):\n",
    "    true_positives = K.sum(K.round(K.clip(y_true * y_pred, 0, 1)))\n",
    "    predicted_positives = K.sum(K.round(K.clip(y_pred, 0, 1)))\n",
    "    precision = true_positives / (predicted_positives + K.epsilon())\n",
    "    return precision\n",
    "\n",
    "def f1(y_true, y_pred):\n",
    "    precisions = precision(y_true, y_pred)\n",
    "    recalls = recall(y_true, y_pred)\n",
    "    return 2*((precisions*recalls)/(precisions+recalls+K.epsilon()))"
   ]
  },
  {
   "cell_type": "code",
   "execution_count": 24,
   "id": "0fbbc9bb",
   "metadata": {
    "execution": {
     "iopub.execute_input": "2023-12-14T19:09:33.810043Z",
     "iopub.status.busy": "2023-12-14T19:09:33.809755Z",
     "iopub.status.idle": "2023-12-14T19:09:36.825198Z",
     "shell.execute_reply": "2023-12-14T19:09:36.824396Z"
    },
    "papermill": {
     "duration": 3.024844,
     "end_time": "2023-12-14T19:09:36.827341",
     "exception": false,
     "start_time": "2023-12-14T19:09:33.802497",
     "status": "completed"
    },
    "tags": []
   },
   "outputs": [],
   "source": [
    "# change dis if u want\n",
    "output_dim = 200\n",
    "\n",
    "# LSTM model architechture (CNN + LSTM)\n",
    "model = Sequential([\n",
    "    # embedding layer is like idk\n",
    "    Embedding(vocab_size, output_dim, input_length=max_length),\n",
    "    # lstm for xxx\n",
    "    LSTM(64, dropout=0.3, recurrent_dropout=0.3),\n",
    "    # dropout to prevent overfitting\n",
    "    Dropout(0.5),\n",
    "    # dense to connect the previous output with current layer\n",
    "    Dense(128, activation=\"relu\"),\n",
    "    # dropout to prevent overfitting\n",
    "    Dropout(0.5),\n",
    "    # this is output layer, with 3 class (0, 1, 2)\n",
    "    Dense(3, activation=\"softmax\"),\n",
    "])\n",
    "\n",
    "model.compile(optimizer='adam', loss='categorical_crossentropy', metrics=['accuracy',f1,precision, recall])"
   ]
  },
  {
   "cell_type": "code",
   "execution_count": 25,
   "id": "9a053bf4",
   "metadata": {
    "execution": {
     "iopub.execute_input": "2023-12-14T19:09:36.842273Z",
     "iopub.status.busy": "2023-12-14T19:09:36.842001Z",
     "iopub.status.idle": "2023-12-14T19:09:36.864998Z",
     "shell.execute_reply": "2023-12-14T19:09:36.864093Z"
    },
    "papermill": {
     "duration": 0.037598,
     "end_time": "2023-12-14T19:09:36.871798",
     "exception": false,
     "start_time": "2023-12-14T19:09:36.834200",
     "status": "completed"
    },
    "tags": []
   },
   "outputs": [
    {
     "name": "stdout",
     "output_type": "stream",
     "text": [
      "Model: \"sequential\"\n",
      "_________________________________________________________________\n",
      " Layer (type)                Output Shape              Param #   \n",
      "=================================================================\n",
      " embedding (Embedding)       (None, 26, 200)           3734200   \n",
      "                                                                 \n",
      " lstm (LSTM)                 (None, 64)                67840     \n",
      "                                                                 \n",
      " dropout (Dropout)           (None, 64)                0         \n",
      "                                                                 \n",
      " dense (Dense)               (None, 128)               8320      \n",
      "                                                                 \n",
      " dropout_1 (Dropout)         (None, 128)               0         \n",
      "                                                                 \n",
      " dense_1 (Dense)             (None, 3)                 387       \n",
      "                                                                 \n",
      "=================================================================\n",
      "Total params: 3810747 (14.54 MB)\n",
      "Trainable params: 3810747 (14.54 MB)\n",
      "Non-trainable params: 0 (0.00 Byte)\n",
      "_________________________________________________________________\n"
     ]
    }
   ],
   "source": [
    "# checking the model parameters\n",
    "model.summary()"
   ]
  },
  {
   "cell_type": "code",
   "execution_count": 26,
   "id": "04c83e48",
   "metadata": {
    "execution": {
     "iopub.execute_input": "2023-12-14T19:09:36.889204Z",
     "iopub.status.busy": "2023-12-14T19:09:36.888914Z",
     "iopub.status.idle": "2023-12-14T19:16:02.328905Z",
     "shell.execute_reply": "2023-12-14T19:16:02.327763Z"
    },
    "papermill": {
     "duration": 385.45119,
     "end_time": "2023-12-14T19:16:02.331269",
     "exception": false,
     "start_time": "2023-12-14T19:09:36.880079",
     "status": "completed"
    },
    "tags": []
   },
   "outputs": [
    {
     "name": "stdout",
     "output_type": "stream",
     "text": [
      "Epoch 1/10\n",
      "310/310 [==============================] - 68s 173ms/step - loss: 0.4599 - accuracy: 0.8422 - f1: 0.8206 - precision: 0.8506 - recall: 0.7968 - val_loss: 0.3228 - val_accuracy: 0.8880 - val_f1: 0.8862 - val_precision: 0.8988 - val_recall: 0.8741\n",
      "Epoch 2/10\n",
      "310/310 [==============================] - 51s 165ms/step - loss: 0.2321 - accuracy: 0.9201 - f1: 0.9201 - precision: 0.9306 - recall: 0.9100 - val_loss: 0.3216 - val_accuracy: 0.8840 - val_f1: 0.8844 - val_precision: 0.8948 - val_recall: 0.8745\n",
      "Epoch 3/10\n",
      "310/310 [==============================] - 52s 169ms/step - loss: 0.1486 - accuracy: 0.9463 - f1: 0.9470 - precision: 0.9504 - recall: 0.9436 - val_loss: 0.4371 - val_accuracy: 0.8858 - val_f1: 0.8849 - val_precision: 0.8871 - val_recall: 0.8828\n",
      "Epoch 4/10\n",
      "310/310 [==============================] - 51s 166ms/step - loss: 0.1037 - accuracy: 0.9629 - f1: 0.9629 - precision: 0.9641 - recall: 0.9616 - val_loss: 0.4610 - val_accuracy: 0.8749 - val_f1: 0.8746 - val_precision: 0.8772 - val_recall: 0.8720\n",
      "Epoch 5/10\n",
      "310/310 [==============================] - 52s 169ms/step - loss: 0.0767 - accuracy: 0.9735 - f1: 0.9735 - precision: 0.9741 - recall: 0.9728 - val_loss: 0.5825 - val_accuracy: 0.8759 - val_f1: 0.8762 - val_precision: 0.8782 - val_recall: 0.8743\n",
      "Epoch 6/10\n",
      "310/310 [==============================] - 50s 161ms/step - loss: 0.0623 - accuracy: 0.9784 - f1: 0.9783 - precision: 0.9791 - recall: 0.9776 - val_loss: 0.6291 - val_accuracy: 0.8723 - val_f1: 0.8725 - val_precision: 0.8734 - val_recall: 0.8716\n",
      "Epoch 7/10\n",
      "310/310 [==============================] - 52s 169ms/step - loss: 0.0556 - accuracy: 0.9801 - f1: 0.9801 - precision: 0.9804 - recall: 0.9797 - val_loss: 0.6640 - val_accuracy: 0.8660 - val_f1: 0.8658 - val_precision: 0.8670 - val_recall: 0.8646\n",
      "Epoch 8/10\n",
      "310/310 [==============================] - 48s 154ms/step - loss: 0.0467 - accuracy: 0.9832 - f1: 0.9831 - precision: 0.9834 - recall: 0.9827 - val_loss: 0.7184 - val_accuracy: 0.8614 - val_f1: 0.8610 - val_precision: 0.8619 - val_recall: 0.8602\n",
      "Epoch 9/10\n",
      "310/310 [==============================] - 48s 156ms/step - loss: 0.0417 - accuracy: 0.9849 - f1: 0.9849 - precision: 0.9855 - recall: 0.9842 - val_loss: 0.8207 - val_accuracy: 0.8612 - val_f1: 0.8610 - val_precision: 0.8620 - val_recall: 0.8600\n",
      "Epoch 10/10\n",
      "310/310 [==============================] - 54s 175ms/step - loss: 0.0375 - accuracy: 0.9861 - f1: 0.9859 - precision: 0.9863 - recall: 0.9856 - val_loss: 0.8518 - val_accuracy: 0.8634 - val_f1: 0.8635 - val_precision: 0.8647 - val_recall: 0.8624\n"
     ]
    }
   ],
   "source": [
    "# Train the model\n",
    "model_history = model.fit(\n",
    "    X_train,\n",
    "    y_train,\n",
    "    batch_size = 64,\n",
    "    epochs=10,\n",
    "    validation_data=(X_test, y_test)\n",
    ")"
   ]
  },
  {
   "cell_type": "code",
   "execution_count": 27,
   "id": "6c4a16c9",
   "metadata": {
    "execution": {
     "iopub.execute_input": "2023-12-14T19:16:02.845140Z",
     "iopub.status.busy": "2023-12-14T19:16:02.844395Z",
     "iopub.status.idle": "2023-12-14T19:16:03.146651Z",
     "shell.execute_reply": "2023-12-14T19:16:03.145796Z"
    },
    "papermill": {
     "duration": 0.559682,
     "end_time": "2023-12-14T19:16:03.148779",
     "exception": false,
     "start_time": "2023-12-14T19:16:02.589097",
     "status": "completed"
    },
    "tags": []
   },
   "outputs": [
    {
     "data": {
      "image/png": "[encoded data removed]",
      "text/plain": [
       "<Figure size 640x480 with 1 Axes>"
      ]
     },
     "metadata": {},
     "output_type": "display_data"
    }
   ],
   "source": [
    "import matplotlib.pyplot as plt\n",
    "hist = model.history.history\n",
    "plt.plot(hist['loss'],'r',linewidth=2, label='Training loss')\n",
    "plt.plot(hist['val_loss'], 'g',linewidth=2, label='Validation loss')\n",
    "plt.title('Hate Speech and Offensive language Model')\n",
    "plt.xlabel('Epochs numbers')\n",
    "plt.ylabel('MSE numbers')\n",
    "plt.show()"
   ]
  },
  {
   "cell_type": "markdown",
   "id": "9ce8ce31",
   "metadata": {
    "papermill": {
     "duration": 0.289642,
     "end_time": "2023-12-14T19:16:03.703363",
     "exception": false,
     "start_time": "2023-12-14T19:16:03.413721",
     "status": "completed"
    },
    "tags": []
   },
   "source": [
    "## Thanks alot upvotes ##"
   ]
  }
 ],
 "metadata": {
  "kaggle": {
   "accelerator": "gpu",
   "dataSources": [
    {
     "datasetId": 4096079,
     "sourceId": 7105074,
     "sourceType": "datasetVersion"
    }
   ],
   "dockerImageVersionId": 30627,
   "isGpuEnabled": true,
   "isInternetEnabled": true,
   "language": "python",
   "sourceType": "notebook"
  },
  "kernelspec": {
   "display_name": "Python 3 (ipykernel)",
   "language": "python",
   "name": "python3"
  },
  "language_info": {
   "codemirror_mode": {
    "name": "ipython",
    "version": 3
   },
   "file_extension": ".py",
   "mimetype": "text/x-python",
   "name": "python",
   "nbconvert_exporter": "python",
   "pygments_lexer": "ipython3",
   "version": "3.11.5"
  },
  "papermill": {
   "default_parameters": {},
   "duration": 415.657241,
   "end_time": "2023-12-14T19:16:06.580704",
   "environment_variables": {},
   "exception": null,
   "input_path": "__notebook__.ipynb",
   "output_path": "__notebook__.ipynb",
   "parameters": {},
   "start_time": "2023-12-14T19:09:10.923463",
   "version": "2.4.0"
  }
 },
 "nbformat": 4,
 "nbformat_minor": 5
}
